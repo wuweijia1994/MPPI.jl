{
 "cells": [
  {
   "cell_type": "code",
   "execution_count": null,
   "metadata": {},
   "outputs": [],
   "source": [
    "from mujoco_py import load_model_from_path, MjSim, MjViewer\n",
    "import MPPI\n",
    "import MPPI_MMR\n",
    "import os\n",
    "import numpy as np\n",
    "#from keras.models import Sequential, Model\n",
    "#from keras.layers import Dense, Activation, Flatten, Input, Concatenate\n",
    "#from keras.optimizers import Adam\n",
    "\n",
    "import argparse"
   ]
  },
  {
   "cell_type": "code",
   "execution_count": null,
   "metadata": {},
   "outputs": [],
   "source": [
    "parser = argparse.ArgumentParser(description='Process which environment to simulate.')\n",
    "parser.add_argument('-e', '--env', type=str, nargs='?', default=\"arm_gripper\",\n",
    "                    help='Enter the name of the environments like: inverted_pendulum, humanoid')\n",
    "parser.add_argument('-it', '--iter', type=int, default=300,\n",
    "                    help='The number of the iterations')\n",
    "\n",
    "os.environ['TF_CPP_MIN_LOG_LEVEL'] = '2'\n",
    "args = parser.parse_args()\n",
    "ENV = args.env\n",
    "ITER = args.iter"
   ]
  },
  {
   "cell_type": "code",
   "execution_count": null,
   "metadata": {},
   "outputs": [],
   "source": [
    "def ip_cost(data):\n",
    "    #pole init pos is 0, vel is 0\n",
    "    state = data.qpos\n",
    "    cart_pos, pole_pos = state[0], state[1]\n",
    "    # cart_vel, pole_vel = state[2]\n",
    "    cost = (pole_pos)*(pole_pos)+(cart_pos)*(cart_pos)\n",
    "    return cost\n",
    "\n",
    "def ip_env(path=\"./inverted_pendulum/inverted_pendulum.xml\"):\n",
    "    model = load_model_from_path(path)\n",
    "    real_sim = MjSim(model)\n",
    "    return real_sim"
   ]
  },
  {
   "cell_type": "code",
   "execution_count": null,
   "metadata": {},
   "outputs": [],
   "source": [
    "def hm_cost(data):\n",
    "    pos = data.qpos\n",
    "    vel = data.qvel\n",
    "\n",
    "    rootxPos = pos[0]\n",
    "    rootyPos = pos[1]\n",
    "    rootzPos = pos[2]\n",
    "\n",
    "    rootxVel = vel[0]\n",
    "\n",
    "    return  (rootzPos-1.4)**2\n",
    "    #return  (rootzPos-1.4)**2+0.01*(rootyPos)**2+0.01*(rootxVel-2.0)**2\n",
    "\n",
    "def hm_env(path=os.path.join(os.curdir, \"humanoid/humanoid.xml\")):\n",
    "    model = load_model_from_path(path)\n",
    "    real_sim = MjSim(model)\n",
    "    return real_sim\n",
    "# hm_env_mjb = path=os.path.join(os.curdir, \"humanoid/humanoid.mjb\")\n",
    "hm_env_path = path=os.path.join(os.curdir, \"/home/wuweijia/GitHub/MPPI/python/humanoid/humanoid.xml\")"
   ]
  },
  {
   "cell_type": "code",
   "execution_count": null,
   "metadata": {},
   "outputs": [],
   "source": [
    "def ag_cost(data):\n",
    "    state = data.site_xpos        \n",
    "\n",
    "    end_pos = state[0]\n",
    "    obj_pos = state[1]\n",
    "    target = [0.2, 0.1, 0.2]\n",
    "    \n",
    "    for i in range(len(end_pos)):\n",
    "        episode_cost += (end_pos[i]-obj_pos[i])**2\n",
    "        episode_cost += (target[i]-obj_pos[i])**2\n",
    "\n",
    "ag_env_path = \"/home/wuweijia/GitHub/MPPI/python/arm_gripper/arm_claw.xml\""
   ]
  },
  {
   "cell_type": "code",
   "execution_count": null,
   "metadata": {},
   "outputs": [],
   "source": [
    "ip_args = {\"JOINTSNUM\":1, \"K\":20, \"T\":500, \"alpha\":0.1, \"lamb\":0.05, \"gama\":0.5, \"render\":\"RECORD\", \"cost_fun\":ip_cost, \"env_path\":ip_env, \"mu\":None, \"sigma\":None}\n",
    "\n",
    "hm_args = {\"JOINTSNUM\":17, \"K\":96, \"T\":100, \"alpha\":0.1, \"lamb\":0.05, \"gama\":0.5, \"render\":\"RECORD\", \"cost_fun\":hm_cost, \"env_path\":hm_env_path, \"mu\":np.zeros(17), \"sigma\":0.05*np.eye(17)}\n",
    "\n",
    "ag_args = {\"JOINTSNUM\":9, \"K\":50, \"T\":50, \"alpha\":0.1, \"lamb\":0.1, \"gama\":0.5, \"render\":\"RECORD\", \"cost_fun\":hm_cost, \"env_path\":ag_env_path, \"mu\":np.zeros(9), \"sigma\":5*np.eye(9)}\n",
    "\n",
    "args = {\"inverted_pendulum\":ip_args, \"humanoid\":hm_args, \"arm_gripper\":ag_args}"
   ]
  },
  {
   "cell_type": "code",
   "execution_count": null,
   "metadata": {},
   "outputs": [],
   "source": [
    "if ENV not in args:\n",
    "    print(\"There is no environment: \"+ENV)\n",
    "else:\n",
    "    env_arg = args[ENV]"
   ]
  },
  {
   "cell_type": "code",
   "execution_count": null,
   "metadata": {},
   "outputs": [],
   "source": [
    "mppi_agent = MPPI_MMR.MPPI_MMR(env_arg)\n",
    "# mppi_agent = MPPI.MPPI(env_arg)\n",
    "# mppi_agent.run_MPPI(ITER)\n",
    "# mppi_agent.run_MPPI_Supervising(ITER)\n",
    "mppi_agent.run_MPPI_GPS_dual(ITER)"
   ]
  }
 ],
 "metadata": {
  "jupytext": {
   "text_representation": {
    "extension": ".py",
    "format_name": "light",
    "format_version": "1.3",
    "jupytext_version": "0.8.4"
   }
  },
  "kernelspec": {
   "display_name": "Python 3",
   "language": "python",
   "name": "python3"
  },
  "language_info": {
   "codemirror_mode": {
    "name": "ipython",
    "version": 3
   },
   "file_extension": ".py",
   "mimetype": "text/x-python",
   "name": "python",
   "nbconvert_exporter": "python",
   "pygments_lexer": "ipython3",
   "version": "3.6.5"
  }
 },
 "nbformat": 4,
 "nbformat_minor": 2
}
