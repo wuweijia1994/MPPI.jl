{
 "cells": [
  {
   "cell_type": "code",
   "execution_count": null,
   "metadata": {},
   "outputs": [],
   "source": [
    "import time\n",
    "import os\n",
    "import datetime\n",
    "import imageio"
   ]
  },
  {
   "cell_type": "code",
   "execution_count": null,
   "metadata": {},
   "outputs": [],
   "source": [
    "def getTimeStamp():\n",
    "    ts = time.time()\n",
    "    return datetime.datetime.fromtimestamp(ts).strftime('%Y-%m-%d %H:%M:%S')"
   ]
  },
  {
   "cell_type": "code",
   "execution_count": null,
   "metadata": {
    "lines_to_next_cell": 2
   },
   "outputs": [],
   "source": [
    "def getFileName(K, T, iters, gama, lamb, alpha):\n",
    "    return \"K:\"+str(K)+\"-T:\"+str(T)+\"-iters:\"+str(iters)+\"-gama:\"+str(gama)+\"-lamb:\"+str(lamb)+\"-alpha:\"+str(alpha)"
   ]
  },
  {
   "cell_type": "code",
   "execution_count": null,
   "metadata": {},
   "outputs": [],
   "source": [
    "def save_video(queue, filename, fps):\n",
    "    if not os.path.isdir(os.path.dirname(filename)):\n",
    "        os.mkdir(os.path.dirname(filename))\n",
    "\n",
    "    writer = imageio.get_writer(filename, fps=fps)\n",
    "    while not queue.empty():\n",
    "        frame = queue.get()\n",
    "        writer.append_data(frame)\n",
    "    writer.close()"
   ]
  }
 ],
 "metadata": {
  "jupytext": {
   "text_representation": {
    "extension": ".py",
    "format_name": "light",
    "format_version": "1.3",
    "jupytext_version": "0.8.4"
   }
  },
  "kernelspec": {
   "display_name": "Python 3",
   "language": "python",
   "name": "python3"
  },
  "language_info": {
   "codemirror_mode": {
    "name": "ipython",
    "version": 3
   },
   "file_extension": ".py",
   "mimetype": "text/x-python",
   "name": "python",
   "nbconvert_exporter": "python",
   "pygments_lexer": "ipython3",
   "version": "3.6.5"
  }
 },
 "nbformat": 4,
 "nbformat_minor": 2
}
