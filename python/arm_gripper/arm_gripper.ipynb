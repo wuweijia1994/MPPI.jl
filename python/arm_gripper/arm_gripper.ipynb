{
 "cells": [
  {
   "cell_type": "code",
   "execution_count": null,
   "metadata": {},
   "outputs": [],
   "source": [
    "from mujoco_py import load_model_from_path, MjSim, MjViewer\n",
    "import mujoco_py\n",
    "import os\n",
    "import numpy as np\n",
    "import matplotlib.pyplot as plt\n",
    "import copy\n",
    "import math\n",
    "import time\n",
    "import queue\n",
    "import imageio\n",
    "import datetime"
   ]
  },
  {
   "cell_type": "code",
   "execution_count": null,
   "metadata": {},
   "outputs": [],
   "source": [
    "def getTimeStamp():\n",
    "    ts = time.time()\n",
    "    return datetime.datetime.fromtimestamp(ts).strftime('%Y-%m-%d %H:%M:%S')\n",
    "#the first 9 -> 9 joints\n",
    "#the following 6 -> free joint\n",
    "#no idea for the last qpos"
   ]
  },
  {
   "cell_type": "code",
   "execution_count": null,
   "metadata": {},
   "outputs": [],
   "source": [
    "#Use several method at every time we start the simulation\n",
    "JOINTSNUM = 9\n",
    "K = 50\n",
    "T = 50\n",
    "alpha = 0.1#TODO\n",
    "lamb = 0.1\n",
    "TARGETSTATE = [1, 1 ,1, 0, 0, 0]\n",
    "gama = 0.5\n",
    "iters = 600\n",
    "record=queue.Queue()"
   ]
  },
  {
   "cell_type": "code",
   "execution_count": null,
   "metadata": {},
   "outputs": [],
   "source": [
    "#TODO add another function that very close not clear.\n",
    "def cost(state):\n",
    "    end_pos = state[0]\n",
    "    obj_pos = state[1]\n",
    "    target = [0.2, 0.1, 0.2]\n",
    "    cost = 0\n",
    "    for i in range(len(end_pos)):\n",
    "        cost += (end_pos[i]-obj_pos[i])**2\n",
    "        cost += (target[i]-obj_pos[i])**2\n",
    "    # print(\"end_pos:\")\n",
    "    # print(end_pos)\n",
    "    # print(\"obj_pos:\")\n",
    "    # print(obj_pos)\n",
    "    return cost"
   ]
  },
  {
   "cell_type": "code",
   "execution_count": null,
   "metadata": {},
   "outputs": [],
   "source": [
    "def terminalCost(state):\n",
    "    obj_pos = state[1]\n",
    "    target = [0.1, 0.1, 0]\n",
    "    cost = 0\n",
    "    for o,t in zip(obj_pos, target):\n",
    "        cost += (o-t)**2\n",
    "    return cost"
   ]
  },
  {
   "cell_type": "code",
   "execution_count": null,
   "metadata": {},
   "outputs": [],
   "source": [
    "def getNormal(mu, sigma, T = 1):\n",
    "    temp = np.array(np.transpose([np.random.normal(m, s, T) for m, s in zip(mu, np.diag(sigma))]))\n",
    "    return temp"
   ]
  },
  {
   "cell_type": "markdown",
   "metadata": {},
   "source": [
    "simulation initial"
   ]
  },
  {
   "cell_type": "code",
   "execution_count": null,
   "metadata": {},
   "outputs": [],
   "source": [
    "def simulationInit(path=\"/home/wuweijia/GitHub/MPPI/python/arm_gripper/arm_claw.xml\"):\n",
    "\n",
    "#def simulationInit(path=\"/Users/weijiawu/Documents/GitHub/MPPI.jl/python/arm_gripper/arm_claw.xml\"):\n",
    "\n",
    "    model = load_model_from_path(path)\n",
    "    real_sim = MjSim(model)\n",
    "    return real_sim"
   ]
  },
  {
   "cell_type": "code",
   "execution_count": null,
   "metadata": {},
   "outputs": [],
   "source": [
    "# the task finish condition\n",
    "def taskFinish(sim):\n",
    "    return False"
   ]
  },
  {
   "cell_type": "code",
   "execution_count": null,
   "metadata": {},
   "outputs": [],
   "source": [
    "def weightComputation(S):\n",
    "    lou = min(S)\n",
    "    yita = sum(math.exp((lou - S[x])/lamb) for x in range(len(S)))\n",
    "    w = []\n",
    "    for i in range(len(S)):\n",
    "        w.append(math.exp((lou - S[i])/lamb)/yita)\n",
    "    return w"
   ]
  },
  {
   "cell_type": "code",
   "execution_count": null,
   "metadata": {},
   "outputs": [],
   "source": [
    "def updateControl(U, base_control, w):\n",
    "    for i in range(len(U)):\n",
    "        for j in range(len(base_control)):\n",
    "            U[i] += base_control[j][i] * w[j]\n",
    "    return U\n",
    "def getFileName():\n",
    "    return \"K:\"+str(K)+\"-T:\"+str(T)+\"-iters:\"+str(iters)+\"-gama:\"+str(gama)+\"-lamb:\"+str(lamb)+\"-alpha:\"+str(alpha)"
   ]
  },
  {
   "cell_type": "code",
   "execution_count": null,
   "metadata": {},
   "outputs": [],
   "source": [
    "real_sim = simulationInit()\n",
    "#viewer = MjViewer(real_sim)"
   ]
  },
  {
   "cell_type": "code",
   "execution_count": null,
   "metadata": {},
   "outputs": [],
   "source": [
    "# mean and standard deviation\n",
    "mu = np.zeros(JOINTSNUM)\n",
    "sigma = 5*np.eye(JOINTSNUM)"
   ]
  },
  {
   "cell_type": "code",
   "execution_count": null,
   "metadata": {
    "lines_to_next_cell": 2
   },
   "outputs": [],
   "source": [
    "np.random.seed(1)"
   ]
  },
  {
   "cell_type": "code",
   "execution_count": null,
   "metadata": {},
   "outputs": [],
   "source": [
    "# kexi = np.random.normal(np.transpose(mu), sigma, T)\n",
    "#TODO figure out the control input is column vector or not.\n",
    "#MPPI main function\n",
    "U = np.array(np.transpose([np.random.normal(m, s, T) for m, s in zip(mu, np.diag(sigma))]))\n",
    "# print(real_sim.get_state())\n",
    "# pool = MjRenderPool(real_sim, n_workers=4)"
   ]
  },
  {
   "cell_type": "code",
   "execution_count": null,
   "metadata": {},
   "outputs": [],
   "source": [
    "for i in range(iters):#TODO: implement the taskFinish function\n",
    "    S=[0]*K\n",
    "    base_control = []\n",
    "    sim_state = real_sim.get_state()\n",
    "    temp = []\n",
    "    for k in range(K):\n",
    "        sample_sim = simulationInit()\n",
    "        sample_sim.set_state(sim_state)\n",
    "        kexi = np.array(np.transpose([np.random.normal(m, s, T) for m,s in zip(mu, np.diag(sigma))]))\n",
    "        base_control.append(kexi)\n",
    "        for t in range(T):\n",
    "            if k < int((1-alpha)*K):\n",
    "                v = U[t] + kexi[t]\n",
    "            else:\n",
    "                v = kexi[t]\n",
    "            # print(v)\n",
    "            sample_sim.data.ctrl[:] = v\n",
    "            sample_sim.step()\n",
    "            # print(next_state)\n",
    "            # print(sample_sim.data.site_xpos)\n",
    "            S[k] += cost(sample_sim.data.site_xpos)#TODO terminal state cost\n",
    "            temp.append(sample_sim.data.site_xpos[0])\n",
    "            # S[k] += cost(next_state) + np.multiply(np.multiply(np.transpose(gama*u[t]), np.linalg.inv(sigma)), v)# TODO both the cost function and the multiply format\n",
    "        S[k] += terminalCost(sample_sim.data.site_xpos)#TODO define phi, the terminal cost\n",
    "\n",
    "    w = weightComputation(S)\n",
    "    # plt.plot(range(len(w)), w, 'blue', range(len(w)), S, 'r')\n",
    "    # plt.plot(range(len(temp)), [x[0] for x in temp])\n",
    "    # plt.show()\n",
    "    U = updateControl(U, base_control, w)\n",
    "    real_sim.data.ctrl[:] = U[0]\n",
    "    real_sim.step()\n",
    "\n",
    "    U[:-1] = U[1:]\n",
    "    U[-1] = np.array(np.transpose([np.random.normal(m, s) for m,s in zip(mu, np.diag(sigma))]))\n",
    "    record.put(np.flip(real_sim.render(1280, 608, device_id = 0), 0))\n",
    "\n",
    "    # print(real_sim.get_state()[1])\n",
    "    print(\"real_sim works well\")\n",
    "\n",
    "filename = \"./arm_gripper_video.mp4\"\n",
    "fps = 10\n",
    "\n",
    "if not os.path.isdir(os.path.dirname(filename)):\n",
    "    os.mkdir(os.path.dirname(filename))\n",
    "\n",
    "writer = imageio.get_writer(filename, fps=fps)\n",
    "while not record.empty():\n",
    "    frame = record.get()\n",
    "    writer.append_data(frame)\n",
    "writer.close()"
   ]
  }
 ],
 "metadata": {
  "jupytext": {
   "text_representation": {
    "extension": ".py",
    "format_name": "light",
    "format_version": "1.3",
    "jupytext_version": "0.8.4"
   }
  },
  "kernelspec": {
   "display_name": "Python 3",
   "language": "python",
   "name": "python3"
  },
  "language_info": {
   "codemirror_mode": {
    "name": "ipython",
    "version": 3
   },
   "file_extension": ".py",
   "mimetype": "text/x-python",
   "name": "python",
   "nbconvert_exporter": "python",
   "pygments_lexer": "ipython3",
   "version": "3.6.5"
  }
 },
 "nbformat": 4,
 "nbformat_minor": 2
}
